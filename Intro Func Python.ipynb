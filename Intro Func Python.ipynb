{
 "cells": [
  {
   "cell_type": "markdown",
   "metadata": {},
   "source": [
    "### 1\n",
    "Construa um programa que possua uma declaração de uma função que realiza a impressão (print) de uma `string` qualquer que é repassada no momento da chamada da função (ou seja, o valor da `string` não está dentro da função, e sim é repassado à função quando esta é chamada). No código também é necessário chamar (referenciar) tal função para que seja executada."
   ]
  },
  {
   "cell_type": "code",
   "execution_count": null,
   "metadata": {},
   "outputs": [],
   "source": [
    "def stringprint(string):\n",
    "    string = print(string)\n",
    "    return string\n",
    "\n",
    "stringprint(\"string\")"
   ]
  },
  {
   "cell_type": "markdown",
   "metadata": {},
   "source": [
    "### 2\n",
    "Construa um programa que possua uma declaração de uma função que realiza a soma de dois números quaisquer inteiros e os imprime na tela. Os números serão repassados à função no momento em que ela é chamada."
   ]
  },
  {
   "cell_type": "code",
   "execution_count": null,
   "metadata": {},
   "outputs": [],
   "source": [
    "def soma(a,b):\n",
    "    c = a + b\n",
    "    print(c)\n",
    "\n",
    "soma(1, 2)"
   ]
  },
  {
   "cell_type": "markdown",
   "metadata": {},
   "source": [
    "### 3\n",
    "Construa um programa que possua uma declaração de uma função que realiza a verificação se um determinado número inteiro é par ou ímpar. Tal número deve ser informado pelo usuário (deve ocorrer uma entrada de dados para ler tal número). A função pode retornar um resultado booleano (True/False) e/ou um texto indicado que \"X é par\" ou \"X é ímpar\", ou alguma variação neste sentido."
   ]
  },
  {
   "cell_type": "code",
   "execution_count": null,
   "metadata": {},
   "outputs": [],
   "source": [
    "def par(a):\n",
    "    if a % 2 == 0:\n",
    "        print(\"Par!\")\n",
    "    else:\n",
    "        print(\"Ímpar!\")\n",
    "\n",
    "par(2)\n",
    "par(3)"
   ]
  },
  {
   "cell_type": "markdown",
   "metadata": {},
   "source": [
    "### 4\n",
    "Construa um programa que possua uma declaração de **duas funções**, uma para calcular e retornar o *somatório* dos valores de uma lista (lista esta que será passada para a função) e outra função para calcular e retornar a *média aritmética* dos valores de uma lista passada. **Uma das funções deve usar a outra para atingir seu objetivo - chamar uma função dentro de outra**.\n",
    "\n",
    "A lista não precisa ser informada pelo usuário via leitura de entrada de dados do teclado, pode ser 'fixa' e definida em tempo de codificação.\n",
    "O programa deve mostrar na tela a média dos valores desta lista. \n",
    "\n",
    "**Importante**: em caso de lista vazia, a média retornada deve ser o valor `0` (zero)."
   ]
  },
  {
   "cell_type": "code",
   "execution_count": null,
   "metadata": {},
   "outputs": [],
   "source": [
    "def soma(lista):\n",
    "    if len(lista) == 1:\n",
    "        soma = lista[0]\n",
    "    else:\n",
    "        for i in lista:\n",
    "            i += i\n",
    "            soma = i\n",
    "    return soma\n",
    "\n",
    "def media(lista):\n",
    "    if len(lista) == 1:\n",
    "        media = 0\n",
    "    else:\n",
    "        media = soma(lista) / len(lista)\n",
    "    return media\n",
    "\n",
    "lista1 = [1, 2, 3]\n",
    "print(soma(lista1), media(lista1))\n",
    "\n",
    "lista2 = [2]\n",
    "print(soma(lista2), media(lista2))"
   ]
  },
  {
   "cell_type": "markdown",
   "metadata": {},
   "source": [
    "### 5\n",
    "Construa um programa Python que declare uma função para calcular e retorna uma lista com os \"N\" primeiros **números de Fibonacci**.\n",
    "\n",
    "Considere que os dois primeiros números são respectivamente **0** e **1**. Lembrando que na sequência de Fibonacci, um número é composto pela **soma dos dois números anteriores** ($A_n = (A_{n-1}) + (A_{n-2})$). Assim sendo, conforme citado anteriormente, o terceiro número será _0 + 1_, que é igual a 1.\n",
    "\n",
    "A função deve receber como parâmetro um número inteiro que irá reprentar a quantidade de números de Fibonacci que devem ser retornados. Por exemplo, se a função for chamada com o parâmetro `10`, deve retornar os 10 primeiros números de Fibonacci (e assim por diante).\n",
    "\n",
    "O programa deve ter ao menos três chamadas da função com parâmetros diferentes e imprimir na tela a lista de valores. **Não vale fazer um programa que retorne os 3 primeiros números 'hard code'. ;-)**. "
   ]
  },
  {
   "cell_type": "code",
   "execution_count": null,
   "metadata": {},
   "outputs": [],
   "source": [
    "def fibo(x):\n",
    "    fibo = []\n",
    "    a = 0\n",
    "    b = 1\n",
    "    for i in range(x):\n",
    "        fibo.append(a)\n",
    "        c = a + b\n",
    "        a = b\n",
    "        b = c\n",
    "    return fibo\n",
    "\n",
    "print(fibo(10))\n",
    "print(fibo(18))"
   ]
  },
  {
   "cell_type": "markdown",
   "metadata": {},
   "source": [
    "### 6\n",
    "Construa um programa Python que possua uma função que retorne o menor entre dois números de ponto flutuante (float - números reais). Tais números devem ser informados pelo usuário via pergunta (entrada de dados via input). Imprimir na tela a informação sobre qual é o menor número."
   ]
  },
  {
   "cell_type": "code",
   "execution_count": null,
   "metadata": {},
   "outputs": [],
   "source": [
    "def minimo():\n",
    "    a = float(input(\"Informe um número: \"))\n",
    "    b = float(input(\"Informe outro número: \"))\n",
    "    if a > b:\n",
    "        return b\n",
    "    else:\n",
    "        return a\n",
    "\n",
    "print(\"Qual número é menor?\")\n",
    "print(minimo())\n"
   ]
  },
  {
   "cell_type": "markdown",
   "metadata": {},
   "source": [
    "### 7\n",
    "Escreva um programa Python com uma função que receba dois números inteiros (via entrada do usuário - comando input)  e retorne True (Verdadeiro) se o primeiro número for múltiplo do segundo (lembrem dos operadores). Imprimir o resultado. Dica: a função em si não precisa ter mais do que duas linhas (sendo a primeira a definição da função)."
   ]
  },
  {
   "cell_type": "code",
   "execution_count": null,
   "metadata": {},
   "outputs": [],
   "source": [
    "def multiplo(x, y):\n",
    "    return y % x == 0\n",
    "\n",
    "a = int(input(\"Insira um número: \"))\n",
    "b = int(input(\"Insira um número maior que o anterior: \"))\n",
    "if multiplo(a, b):\n",
    "    print(f\"{a} é múltiplo de {b}!\")\n",
    "else:\n",
    "    print(f\"{a} não é múltiplo de {b}!\")"
   ]
  },
  {
   "cell_type": "markdown",
   "metadata": {},
   "source": [
    "### 8\n",
    "Escreva um programa Python com uma função que calcule a área de uma circunferência (lembra da fórmula?), considerando que o diâmetro da mesma será informado pelo usuário e pode ser um número real (via `input()`). Imprima o valor da área obtida (não importa a unidade de medida - $cm^2$, $m^2$ etc.). Utilize a constante `pi` do pacote `math` (math.pi)."
   ]
  },
  {
   "cell_type": "code",
   "execution_count": null,
   "metadata": {},
   "outputs": [],
   "source": [
    "import math\n",
    "\n",
    "def areacirculo(x):\n",
    "    a = math.pi ** 2 * x\n",
    "    return a\n",
    "\n",
    "a = int(input(\"Informe o diâmetro do círculo: \"))\n",
    "print(areacirculo(a))"
   ]
  }
 ],
 "metadata": {
  "kernelspec": {
   "display_name": "Python 3.10.2 64-bit",
   "language": "python",
   "name": "python3"
  },
  "language_info": {
   "codemirror_mode": {
    "name": "ipython",
    "version": 3
   },
   "file_extension": ".py",
   "mimetype": "text/x-python",
   "name": "python",
   "nbconvert_exporter": "python",
   "pygments_lexer": "ipython3",
   "version": "3.10.2"
  },
  "vscode": {
   "interpreter": {
    "hash": "173ae74ecd759d33659dc89cc0ace91dba90ddaa088b7a848a7f37d845ddcc5d"
   }
  }
 },
 "nbformat": 4,
 "nbformat_minor": 5
}
